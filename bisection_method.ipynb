{
 "cells": [
  {
   "cell_type": "markdown",
   "id": "daac52c7",
   "metadata": {},
   "source": [
    "### Bisection Method\n",
    "\n",
    "Given a continuous function $f$ on an interval $[a,b]$ where $f(a)f(b) < 0$, this code approximates $p$ such that $f(p) = 0$.\n",
    "\n",
    "- Code by Nick Monozon (nmonozon@ucla.edu)\n",
    "\n",
    "#### Inputs\n",
    "\n",
    "- `f`, a continuous function\n",
    "- `a`, the left endpoint\n",
    "- `b`, the right endpoint\n",
    "- `max_iter`, the maximum number of iterations (default: 25)\n",
    "- `TOL`, the tolerance of the approximation (default: $10^{-4}$)\n",
    "\n",
    "#### Outputs\n",
    "- `p`, the approximate solution\n",
    "- or an error message"
   ]
  },
  {
   "cell_type": "markdown",
   "id": "5492442b",
   "metadata": {},
   "source": [
    "Change the following variables to implement the bisection method:"
   ]
  },
  {
   "cell_type": "code",
   "execution_count": null,
   "id": "a073d878",
   "metadata": {},
   "outputs": [],
   "source": [
    "f = lambda x: x**3 - x**2 - 10.5\n",
    "a = 1\n",
    "b = 3\n",
    "# max_iter = 25\n",
    "# TOL = 10**(-8)"
   ]
  },
  {
   "cell_type": "code",
   "execution_count": null,
   "id": "bf260957",
   "metadata": {},
   "outputs": [],
   "source": [
    "import numpy as np\n",
    "\n",
    "def bisection_method(f, a, b, TOL = 10**(-4), max_iter = 25):\n",
    "    # Checks if f(a) and f(b) are opposite signs\n",
    "    if np.sign(f(a)) == np.sign(f(b)):\n",
    "        raise ValueError(\"There is no root on this interval!\")\n",
    "        \n",
    "    # Starting iteration\n",
    "    i = 1\n",
    "    # Output header\n",
    "    print(f'{\"Iteration\":<15} {\"p_i\":<20} {\"f(p_i)\":<30}')\n",
    "    \n",
    "    # Iterations\n",
    "    while (i <= max_iter):\n",
    "        # Calculates p_i\n",
    "        p = a + (b-a)/2\n",
    "        f_p = f(p)\n",
    "        \n",
    "        # Prints iteration number, approximation, and value of f at approximation\n",
    "        print(f'{i:<15} {p:<20} {f(p):<30}')\n",
    "        \n",
    "        # Stopping condition\n",
    "        if np.abs(f(p)) < TOL:\n",
    "            # Returns approximated root within specified tolerance\n",
    "            break\n",
    "            \n",
    "        # Increases to subsequent iteration\n",
    "        i += 1\n",
    "        \n",
    "        # Finds new interval for next iteration\n",
    "        if (f(a) * f_p > 0):\n",
    "            a = p\n",
    "        else:\n",
    "            b = p\n",
    "            \n",
    "    if (i <= max_iter):\n",
    "        # Successful convergence to solution\n",
    "        print(f\"\\nBisection Method approximated the solution {p} after {i-1} iterations.\")\n",
    "    else:\n",
    "        # Unsuccessful convergence to solution\n",
    "        print(f\"\\nBisection Method failed to converge to a solution after {i-1} iterations.\")"
   ]
  },
  {
   "cell_type": "code",
   "execution_count": null,
   "id": "cfc7d550",
   "metadata": {},
   "outputs": [],
   "source": [
    "bisection_method(f, a, b)"
   ]
  }
 ],
 "metadata": {
  "kernelspec": {
   "display_name": "Python 3 (ipykernel)",
   "language": "python",
   "name": "python3"
  },
  "language_info": {
   "codemirror_mode": {
    "name": "ipython",
    "version": 3
   },
   "file_extension": ".py",
   "mimetype": "text/x-python",
   "name": "python",
   "nbconvert_exporter": "python",
   "pygments_lexer": "ipython3",
   "version": "3.9.7"
  }
 },
 "nbformat": 4,
 "nbformat_minor": 5
}
