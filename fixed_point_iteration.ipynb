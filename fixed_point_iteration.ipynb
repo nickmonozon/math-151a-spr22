{
 "cells": [
  {
   "cell_type": "markdown",
   "id": "07af8c42",
   "metadata": {},
   "source": [
    "### Fixed-Point Iteration\n",
    "\n",
    "Given a function $f$ that is continuous on $[a,b]$ where $f(x) \\in [a,b]$ for all $x \\in [a,b]$ where in addition $|f'(x)|\\ \\leq k < 1$ for all $x \\in (a,b)$, we say that $f$ has a unique fixed point on $[a,b]$. This code approximates that unique fixed point.\n",
    "\n",
    "- Code by Nick Monozon (nmonozon@ucla.edu)\n",
    "\n",
    "#### Inputs\n",
    "\n",
    "- `f`, a continuous function\n",
    "- `p0`, initial guess/approximation\n",
    "- `max_iter`, the maximum number of iterations (default: 25)\n",
    "- `TOL`, the tolerance of the approximation (default: $10^{-4}$)\n",
    "\n",
    "#### Outputs\n",
    "- `p`, the approximate solution\n",
    "- or an error message"
   ]
  },
  {
   "cell_type": "markdown",
   "id": "e8eb1ec8",
   "metadata": {},
   "source": [
    "Change the following variables to implement Fixed-Point Iteration:"
   ]
  },
  {
   "cell_type": "code",
   "execution_count": 15,
   "id": "ad5e2028",
   "metadata": {},
   "outputs": [],
   "source": [
    "f = lambda x: np.sin(x) + 2\n",
    "p0 = 2\n",
    "# max_iter = 30\n",
    "TOL = 10**(-2)"
   ]
  },
  {
   "cell_type": "code",
   "execution_count": 16,
   "id": "fc17c451",
   "metadata": {},
   "outputs": [],
   "source": [
    "import numpy as np\n",
    "\n",
    "def fixed_point_iteration(f, p0, TOL = 10**(-4), max_iter = 25):\n",
    "    # Starting iteration\n",
    "    i = 1\n",
    "    \n",
    "    # Output header\n",
    "    print(f'{\"Iteration\":<15} {\"p_i\":<20}')\n",
    "    print(f'{0:<15} {p0:<20}')\n",
    "    \n",
    "    # Iterations\n",
    "    while (i <= max_iter):\n",
    "        # Calculates p_i\n",
    "        p = f(p0)\n",
    "        \n",
    "        # Prints iteration number, approximation, and value of f at approximation\n",
    "        print(f'{i:<15} {p:<20}')\n",
    "        \n",
    "        # Stopping condition\n",
    "        if np.abs(p - p0) < TOL:\n",
    "            # Returns approximated root within specified tolerance\n",
    "            break\n",
    "        \n",
    "        # Increases to subsequent iteration\n",
    "        i += 1\n",
    "        # Uses approximation as initial guess for next iteration\n",
    "        p0 = p\n",
    "    \n",
    "    if (i <= max_iter):\n",
    "        # Successful convergence to solution\n",
    "        print(f\"\\nFixed-Point Iteration approximated the solution {p} after {i} iterations.\")\n",
    "    else:\n",
    "        # Unsuccessful convergence to solution\n",
    "        print(f\"\\nFixed-Point Iteration failed to converge to a solution after {i-1} iterations.\")"
   ]
  },
  {
   "cell_type": "markdown",
   "id": "f45b8d28",
   "metadata": {},
   "source": [
    "Run the below code chunk to obtain the approximation!"
   ]
  },
  {
   "cell_type": "code",
   "execution_count": 17,
   "id": "032bea46",
   "metadata": {},
   "outputs": [
    {
     "name": "stdout",
     "output_type": "stream",
     "text": [
      "Iteration       p_i                 \n",
      "0               2                   \n",
      "1               2.909297426825682   \n",
      "2               2.23021170624211    \n",
      "3               2.790350537187632   \n",
      "4               2.3440643528893377  \n",
      "5               2.715631851897715   \n",
      "6               2.4131959188500547  \n",
      "7               2.6656740662028997  \n",
      "8               2.4581551471896974  \n",
      "9               2.6314622149045794  \n",
      "10              2.4882910823757047  \n",
      "11              2.6078114299387507  \n",
      "12              2.5087921859662377  \n",
      "13              2.5914052996430565  \n",
      "14              2.522846943590069   \n",
      "15              2.5800138641405375  \n",
      "16              2.5325231727844058  \n",
      "17              2.5721045139839136  \n",
      "18              2.5392010422957463  \n",
      "19              2.5666147386697964  \n",
      "20              2.543816256921879   \n",
      "21              2.5628058599721064  \n",
      "22              2.547008731905501   \n",
      "23              2.56016413135817    \n",
      "24              2.549218282707309   \n",
      "25              2.5583324141324733  \n",
      "\n",
      "Fixed-Point Iteration approximated the solution 2.5583324141324733 after 25 iterations.\n"
     ]
    }
   ],
   "source": [
    "fixed_point_iteration(f, p0, TOL)"
   ]
  }
 ],
 "metadata": {
  "kernelspec": {
   "display_name": "Python 3 (ipykernel)",
   "language": "python",
   "name": "python3"
  },
  "language_info": {
   "codemirror_mode": {
    "name": "ipython",
    "version": 3
   },
   "file_extension": ".py",
   "mimetype": "text/x-python",
   "name": "python",
   "nbconvert_exporter": "python",
   "pygments_lexer": "ipython3",
   "version": "3.9.7"
  }
 },
 "nbformat": 4,
 "nbformat_minor": 5
}
