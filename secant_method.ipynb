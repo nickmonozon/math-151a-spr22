{
 "cells": [
  {
   "cell_type": "markdown",
   "id": "9ea1f309",
   "metadata": {},
   "source": [
    "### Secant Method\n",
    "\n",
    "Given a function $f$, this code approximates $p$ such that $f(p) = 0$ for initial guesses $p_0$ and $p_1$. No computation of derivatives is required.\n",
    "\n",
    "- Code by Nick Monozon (nmonozon@ucla.edu)\n",
    "\n",
    "#### Inputs\n",
    "\n",
    "- `f`, a continuous function\n",
    "- `p0`, the first initial guess\n",
    "- `p1`, the second initial guess\n",
    "- `max_iter`, the maximum number of iterations (default: 25)\n",
    "- `TOL`, the tolerance of the approximation (default: $10^{-4}$)\n",
    "\n",
    "#### Outputs\n",
    "- `p`, the approximate solution\n",
    "- or an error message"
   ]
  },
  {
   "cell_type": "markdown",
   "id": "20ca88f1",
   "metadata": {},
   "source": [
    "Change the following variables to implement Secant Method:"
   ]
  },
  {
   "cell_type": "code",
   "execution_count": null,
   "id": "70e22239",
   "metadata": {},
   "outputs": [],
   "source": [
    "f = lambda x: x**3 - 2*x**2 - 5\n",
    "p0 = 1\n",
    "p1 = 3\n",
    "# max_iter = 30\n",
    "# TOL = 10**(-8)"
   ]
  },
  {
   "cell_type": "code",
   "execution_count": null,
   "id": "cb7211d5",
   "metadata": {},
   "outputs": [],
   "source": [
    "import numpy as np\n",
    "\n",
    "def secant_method(f, p0, p1, TOL = 10**(-4), max_iter = 25):\n",
    "    # Starting iteration\n",
    "    i = 2\n",
    "    # Initial guesses\n",
    "    q0 = f(p0)\n",
    "    q1 = f(p1)\n",
    "    \n",
    "    # Output header\n",
    "    print(f'{\"Iteration\":<15} {\"p_i\":<20} {\"f(p_i)\":<30}')\n",
    "    print(f'{0:<15} {p0:<20} {q0:<30}')\n",
    "    print(f'{0:<15} {p1:<20} {q1:<30}')\n",
    "    \n",
    "    # Iterations\n",
    "    while (i <= max_iter):\n",
    "        # Calculates p_i\n",
    "        p = p1 - q1*(p1-p0)/(q1-q0)\n",
    "        \n",
    "        # Prints iteration number, approximation, and value of f at approximation\n",
    "        print(f'{i:<15} {p:<20} {f(p):<30}')\n",
    "        \n",
    "        # Stopping condition\n",
    "        if np.abs(p - p1) < TOL:\n",
    "            # Returns approximated root within specified tolerance\n",
    "            break\n",
    "        \n",
    "        # Increases to subsequent iteration\n",
    "        i += 1\n",
    "        # Uses approximation as initial guess for next iteration\n",
    "        p0 = p1\n",
    "        q0 = q1\n",
    "        p1 = p\n",
    "        q1 = f(p)\n",
    "    \n",
    "    if (i <= max_iter):\n",
    "        # Successful convergence to solution\n",
    "        print(f\"\\nSecant Method approximated the solution {p} after {i} iterations.\")\n",
    "    else:\n",
    "        # Unsuccessful convergence to solution\n",
    "        print(f\"\\nSecant Method failed to converge to a solution after {i-1} iterations.\")"
   ]
  },
  {
   "cell_type": "markdown",
   "id": "33c011f2",
   "metadata": {},
   "source": [
    "Run the below code chunk to obtain the approximation!"
   ]
  },
  {
   "cell_type": "code",
   "execution_count": null,
   "id": "2852608f",
   "metadata": {},
   "outputs": [],
   "source": [
    "secant_method(f, p0, p1)"
   ]
  }
 ],
 "metadata": {
  "kernelspec": {
   "display_name": "Python 3 (ipykernel)",
   "language": "python",
   "name": "python3"
  },
  "language_info": {
   "codemirror_mode": {
    "name": "ipython",
    "version": 3
   },
   "file_extension": ".py",
   "mimetype": "text/x-python",
   "name": "python",
   "nbconvert_exporter": "python",
   "pygments_lexer": "ipython3",
   "version": "3.9.7"
  }
 },
 "nbformat": 4,
 "nbformat_minor": 5
}
