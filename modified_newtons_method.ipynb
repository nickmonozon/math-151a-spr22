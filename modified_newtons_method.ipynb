{
 "cells": [
  {
   "cell_type": "markdown",
   "id": "349d442c",
   "metadata": {},
   "source": [
    "### Modified Newton's Method\n",
    "\n",
    "In the case of a zero with multiplicity greater than 1 of a function $f$, this code refines Newton's Method to approximate $p$ such that $f(p) = 0$ with a quadratic rate of convergence.\n",
    "\n",
    "- Code by Nick Monozon (nmonozon@ucla.edu)\n",
    "\n",
    "#### Inputs\n",
    "\n",
    "- `f`, a continuous function\n",
    "- `f_prime`, the first derivative of `f`\n",
    "- `f_dprime`, the second derivative of `f`\n",
    "- `p0`, the initial approximation/guess of $p$\n",
    "- `max_iter`, the maximum number of iterations (default: 25)\n",
    "- `TOL`, the tolerance of the approximation (default: $10^{-4}$)\n",
    "\n",
    "#### Outputs\n",
    "- `p`, the approximate solution\n",
    "- or an error message"
   ]
  },
  {
   "cell_type": "markdown",
   "id": "8717fc1b",
   "metadata": {},
   "source": [
    "Change the following variables to implement Modified Newton's Method:"
   ]
  },
  {
   "cell_type": "code",
   "execution_count": null,
   "id": "6a26fb1a",
   "metadata": {},
   "outputs": [],
   "source": [
    "f = lambda x: x**3 - np.sin(x) + np.cos(x)\n",
    "f_prime = lambda x: 3*x**2 - np.cos(x) - np.sin(x)\n",
    "f_dprime = lambda x: 6*x + np.sin(x) - np.cos(x)\n",
    "p0 = 1/2\n",
    "# max_iter = 30\n",
    "# TOL = 10**(-8)"
   ]
  },
  {
   "cell_type": "code",
   "execution_count": null,
   "id": "615a3a0a",
   "metadata": {},
   "outputs": [],
   "source": [
    "import numpy as np\n",
    "\n",
    "def modified_newtons_method(f, f_prime, f_dprime, p0, TOL = 10**(-4), max_iter = 25):\n",
    "    # Starting iteration\n",
    "    i = 1\n",
    "    # Output header\n",
    "    print(f'{\"Iteration\":<15} {\"p_i\":<20} {\"f(p_i)\":<30}')\n",
    "    print(f'{0:<15} {p0:<20} {f(p0):<30}')\n",
    "    \n",
    "    # Iterations\n",
    "    while (i <= max_iter):\n",
    "        # Calculates p_i\n",
    "        p = p0 - f(p0)*f_prime(p0)/((f_prime(p0))**2 - f(p0)*f_dprime(p0))\n",
    "        \n",
    "        # Prints iteration number, approximation, and value of f at approximation\n",
    "        print(f'{i:<15} {p:<20} {f(p):<30}')\n",
    "        \n",
    "        # Stopping condition\n",
    "        if np.abs(f(p)) < TOL:\n",
    "            # Returns approximated root within specified tolerance\n",
    "            break\n",
    "        \n",
    "        # Increases to subsequent iteration\n",
    "        i += 1\n",
    "        # Uses approximation as initial guess for next iteration\n",
    "        p0 = p\n",
    "    \n",
    "    if (i <= max_iter):\n",
    "        # Successful convergence to solution\n",
    "        print(f\"\\nModified Newton's Method approximated the solution {p} after {i} iterations.\")\n",
    "    else:\n",
    "        # Unsuccessful convergence to solution\n",
    "        print(f\"\\nModified Newton's Method failed to converge to a solution after {i-1} iterations.\")"
   ]
  },
  {
   "cell_type": "markdown",
   "id": "539c1759",
   "metadata": {},
   "source": [
    "Run the below code chunk to obtain the approximation!"
   ]
  },
  {
   "cell_type": "code",
   "execution_count": null,
   "id": "2139cffa",
   "metadata": {},
   "outputs": [],
   "source": [
    "modified_newtons_method(f, f_prime, f_dprime, p0)"
   ]
  }
 ],
 "metadata": {
  "kernelspec": {
   "display_name": "Python 3 (ipykernel)",
   "language": "python",
   "name": "python3"
  },
  "language_info": {
   "codemirror_mode": {
    "name": "ipython",
    "version": 3
   },
   "file_extension": ".py",
   "mimetype": "text/x-python",
   "name": "python",
   "nbconvert_exporter": "python",
   "pygments_lexer": "ipython3",
   "version": "3.9.7"
  }
 },
 "nbformat": 4,
 "nbformat_minor": 5
}
