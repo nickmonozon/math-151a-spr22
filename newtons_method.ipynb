{
 "cells": [
  {
   "cell_type": "markdown",
   "id": "1b04a23f",
   "metadata": {},
   "source": [
    "### Newton's Method\n",
    "\n",
    "Given a twice-differentiable function $f$ and an initial approximation $p_0$, this code approximates $p$ such that $f(p) = 0$.\n",
    "\n",
    "- Code by Nick Monozon (nmonozon@ucla.edu)\n",
    "\n",
    "#### Inputs\n",
    "\n",
    "- `f`, a continuous function\n",
    "- `f_prime`, the first derivative of `f`\n",
    "- `p0`, the initial approximation/guess of $p$\n",
    "- `max_iter`, the maximum number of iterations (default: 25)\n",
    "- `TOL`, the tolerance of the approximation (default: $10^{-4}$)\n",
    "\n",
    "#### Outputs\n",
    "- `p`, the approximate solution\n",
    "- or an error message"
   ]
  },
  {
   "cell_type": "markdown",
   "id": "26c6f753",
   "metadata": {},
   "source": [
    "Change the following variables to implement Newton's Method:"
   ]
  },
  {
   "cell_type": "code",
   "execution_count": null,
   "id": "f13480bc",
   "metadata": {},
   "outputs": [],
   "source": [
    "f = lambda x: x**3 - x**2 - 10.5\n",
    "f_prime = lambda x: 3 * x**2 - 2*x\n",
    "p0 = 3\n",
    "# max_iter = 30\n",
    "# TOL = 10**(-8)"
   ]
  },
  {
   "cell_type": "code",
   "execution_count": null,
   "id": "15bc0baf",
   "metadata": {},
   "outputs": [],
   "source": [
    "import numpy as np\n",
    "\n",
    "def newtons_method(f, f_prime, p0, TOL = 10**(-4), max_iter = 25):\n",
    "    # Starting iteration\n",
    "    i = 1\n",
    "    # Output header\n",
    "    print(f'{\"Iteration\":<15} {\"p_i\":<20} {\"f(p_i)\":<30}')\n",
    "    \n",
    "    # Iterations\n",
    "    while (i <= max_iter):\n",
    "        # Calculates p_i\n",
    "        p = p0 - f(p0)/f_prime(p0)\n",
    "        \n",
    "        # Prints iteration number, approximation, and value of f at approximation\n",
    "        print(f'{i:<15} {p:<20} {f(p):<30}')\n",
    "        \n",
    "        # Stopping condition\n",
    "        if np.abs(f(p)) < TOL:\n",
    "            # Returns approximated root within specified tolerance\n",
    "            break\n",
    "        \n",
    "        # Increases to subsequent iteration\n",
    "        i += 1\n",
    "        # Uses approximation as initial guess for next iteration\n",
    "        p0 = p\n",
    "    \n",
    "    if (i <= max_iter):\n",
    "        # Successful convergence to solution\n",
    "        print(f\"\\nNewton's Method approximated the solution {p} after {i-1} iterations.\")\n",
    "    else:\n",
    "        # Unsuccessful convergence to solution\n",
    "        print(f\"\\nNewton's Method failed to converge to a solution after {i-1} iterations.\")"
   ]
  },
  {
   "cell_type": "code",
   "execution_count": null,
   "id": "f3e6d47c",
   "metadata": {},
   "outputs": [],
   "source": [
    "newtons_method(f, f_prime, p0)"
   ]
  }
 ],
 "metadata": {
  "kernelspec": {
   "display_name": "Python 3 (ipykernel)",
   "language": "python",
   "name": "python3"
  },
  "language_info": {
   "codemirror_mode": {
    "name": "ipython",
    "version": 3
   },
   "file_extension": ".py",
   "mimetype": "text/x-python",
   "name": "python",
   "nbconvert_exporter": "python",
   "pygments_lexer": "ipython3",
   "version": "3.9.7"
  }
 },
 "nbformat": 4,
 "nbformat_minor": 5
}
